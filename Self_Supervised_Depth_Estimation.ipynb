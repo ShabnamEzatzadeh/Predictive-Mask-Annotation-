{
  "nbformat": 4,
  "nbformat_minor": 0,
  "metadata": {
    "colab": {
      "name": "DanaXa-Self-Supervised Depth Estimation.ipynb",
      "provenance": []
    },
    "kernelspec": {
      "name": "python3",
      "display_name": "Python 3"
    },
    "language_info": {
      "name": "python"
    },
    "accelerator": "GPU"
  },
  "cells": [
    {
      "cell_type": "markdown",
      "metadata": {
        "id": "NsFsidg1RUCV"
      },
      "source": [
        "# 2021) Three Ways to Improve Semantic Segmentation with Self-Supervised Depth Estimation\n",
        "\n",
        "https://github.com/lhoyer/improving_segmentation_with_selfsupervised_depth"
      ]
    },
    {
      "cell_type": "code",
      "metadata": {
        "colab": {
          "base_uri": "https://localhost:8080/"
        },
        "id": "c9uzf290RXQl",
        "outputId": "54cb1a89-c70b-4349-f354-24560486e9cd"
      },
      "source": [
        "!git clone https://github.com/lhoyer/improving_segmentation_with_selfsupervised_depth.git"
      ],
      "execution_count": null,
      "outputs": [
        {
          "output_type": "stream",
          "text": [
            "Cloning into 'improving_segmentation_with_selfsupervised_depth'...\n",
            "remote: Enumerating objects: 87, done.\u001b[K\n",
            "remote: Counting objects: 100% (87/87), done.\u001b[K\n",
            "remote: Compressing objects: 100% (66/66), done.\u001b[K\n",
            "remote: Total 87 (delta 29), reused 72 (delta 18), pack-reused 0\u001b[K\n",
            "Unpacking objects: 100% (87/87), done.\n"
          ],
          "name": "stdout"
        }
      ]
    },
    {
      "cell_type": "code",
      "metadata": {
        "id": "O3tSP5KKSzx0",
        "colab": {
          "base_uri": "https://localhost:8080/"
        },
        "outputId": "3016ed0f-03fb-40c0-b933-8bf121f8d872"
      },
      "source": [
        "%cd /content/improving_segmentation_with_selfsupervised_depth"
      ],
      "execution_count": null,
      "outputs": [
        {
          "output_type": "stream",
          "text": [
            "/content/improving_segmentation_with_selfsupervised_depth\n"
          ],
          "name": "stdout"
        }
      ]
    },
    {
      "cell_type": "code",
      "metadata": {
        "colab": {
          "base_uri": "https://localhost:8080/",
          "height": 1000
        },
        "id": "FfO_QnqdS7rU",
        "outputId": "835414c0-a2c8-4220-b522-6f04d69165d3"
      },
      "source": [
        "!pip install -r requirements.txt -f https://download.pytorch.org/whl/torch_stable.html"
      ],
      "execution_count": null,
      "outputs": [
        {
          "output_type": "stream",
          "text": [
            "Looking in links: https://download.pytorch.org/whl/torch_stable.html\n",
            "Collecting torch==1.6.0+cu101\n",
            "  Downloading https://download.pytorch.org/whl/cu101/torch-1.6.0%2Bcu101-cp37-cp37m-linux_x86_64.whl (708.0 MB)\n",
            "\u001b[K     |████████████████████████████████| 708.0 MB 10 kB/s \n",
            "\u001b[?25hCollecting torchvision==0.7.0+cu101\n",
            "  Downloading https://download.pytorch.org/whl/cu101/torchvision-0.7.0%2Bcu101-cp37-cp37m-linux_x86_64.whl (5.9 MB)\n",
            "\u001b[K     |████████████████████████████████| 5.9 MB 59.9 MB/s \n",
            "\u001b[?25hCollecting tensorboard==1.15.0\n",
            "  Downloading tensorboard-1.15.0-py3-none-any.whl (3.8 MB)\n",
            "\u001b[K     |████████████████████████████████| 3.8 MB 7.3 MB/s \n",
            "\u001b[?25hCollecting h5py==2.10.0\n",
            "  Downloading h5py-2.10.0-cp37-cp37m-manylinux1_x86_64.whl (2.9 MB)\n",
            "\u001b[K     |████████████████████████████████| 2.9 MB 57.8 MB/s \n",
            "\u001b[?25hCollecting numpy==1.18.1\n",
            "  Downloading numpy-1.18.1-cp37-cp37m-manylinux1_x86_64.whl (20.1 MB)\n",
            "\u001b[K     |████████████████████████████████| 20.1 MB 1.3 MB/s \n",
            "\u001b[?25hCollecting notebook==6.0.3\n",
            "  Downloading notebook-6.0.3-py3-none-any.whl (9.7 MB)\n",
            "\u001b[K     |████████████████████████████████| 9.7 MB 37.5 MB/s \n",
            "\u001b[?25hCollecting pillow==7.0.0\n",
            "  Downloading Pillow-7.0.0-cp37-cp37m-manylinux1_x86_64.whl (2.1 MB)\n",
            "\u001b[K     |████████████████████████████████| 2.1 MB 53.3 MB/s \n",
            "\u001b[?25hCollecting psutil==5.6.7\n",
            "  Downloading psutil-5.6.7.tar.gz (448 kB)\n",
            "\u001b[K     |████████████████████████████████| 448 kB 63.5 MB/s \n",
            "\u001b[?25hRequirement already satisfied: scikit-image==0.16.2 in /usr/local/lib/python3.7/dist-packages (from -r requirements.txt (line 9)) (0.16.2)\n",
            "Collecting matplotlib==3.1.3\n",
            "  Downloading matplotlib-3.1.3-cp37-cp37m-manylinux1_x86_64.whl (13.1 MB)\n",
            "\u001b[K     |████████████████████████████████| 13.1 MB 91 kB/s \n",
            "\u001b[?25hCollecting pyaml==20.3.1\n",
            "  Downloading pyaml-20.3.1-py2.py3-none-any.whl (17 kB)\n",
            "Collecting ray==0.8.4\n",
            "  Downloading ray-0.8.4-cp37-cp37m-manylinux1_x86_64.whl (20.2 MB)\n",
            "\u001b[K     |████████████████████████████████| 20.2 MB 52 kB/s \n",
            "\u001b[?25hCollecting pandas==1.0.1\n",
            "  Downloading pandas-1.0.1-cp37-cp37m-manylinux1_x86_64.whl (10.1 MB)\n",
            "\u001b[K     |████████████████████████████████| 10.1 MB 41.2 MB/s \n",
            "\u001b[?25hCollecting ray[tune]\n",
            "  Downloading ray-1.5.2-cp37-cp37m-manylinux2014_x86_64.whl (51.0 MB)\n",
            "\u001b[K     |████████████████████████████████| 51.0 MB 39 kB/s \n",
            "\u001b[?25hCollecting tqdm==4.42.1\n",
            "  Downloading tqdm-4.42.1-py2.py3-none-any.whl (59 kB)\n",
            "\u001b[K     |████████████████████████████████| 59 kB 7.2 MB/s \n",
            "\u001b[?25hCollecting kornia==0.4.0\n",
            "  Downloading kornia-0.4.0-py2.py3-none-any.whl (195 kB)\n",
            "\u001b[K     |████████████████████████████████| 195 kB 63.0 MB/s \n",
            "\u001b[?25hCollecting requests==2.24.0\n",
            "  Downloading requests-2.24.0-py2.py3-none-any.whl (61 kB)\n",
            "\u001b[K     |████████████████████████████████| 61 kB 486 kB/s \n",
            "\u001b[?25hCollecting scipy==1.2.1\n",
            "  Downloading scipy-1.2.1-cp37-cp37m-manylinux1_x86_64.whl (24.8 MB)\n",
            "\u001b[K     |████████████████████████████████| 24.8 MB 59 kB/s \n",
            "\u001b[?25hCollecting PyYAML==5.3\n",
            "  Downloading PyYAML-5.3.tar.gz (268 kB)\n",
            "\u001b[K     |████████████████████████████████| 268 kB 76.6 MB/s \n",
            "\u001b[?25hRequirement already satisfied: future in /usr/local/lib/python3.7/dist-packages (from torch==1.6.0+cu101->-r requirements.txt (line 1)) (0.16.0)\n",
            "Requirement already satisfied: six>=1.10.0 in /usr/local/lib/python3.7/dist-packages (from tensorboard==1.15.0->-r requirements.txt (line 3)) (1.15.0)\n",
            "Requirement already satisfied: wheel>=0.26 in /usr/local/lib/python3.7/dist-packages (from tensorboard==1.15.0->-r requirements.txt (line 3)) (0.37.0)\n",
            "Requirement already satisfied: werkzeug>=0.11.15 in /usr/local/lib/python3.7/dist-packages (from tensorboard==1.15.0->-r requirements.txt (line 3)) (1.0.1)\n",
            "Requirement already satisfied: protobuf>=3.6.0 in /usr/local/lib/python3.7/dist-packages (from tensorboard==1.15.0->-r requirements.txt (line 3)) (3.17.3)\n",
            "Requirement already satisfied: grpcio>=1.6.3 in /usr/local/lib/python3.7/dist-packages (from tensorboard==1.15.0->-r requirements.txt (line 3)) (1.39.0)\n",
            "Requirement already satisfied: setuptools>=41.0.0 in /usr/local/lib/python3.7/dist-packages (from tensorboard==1.15.0->-r requirements.txt (line 3)) (57.4.0)\n",
            "Requirement already satisfied: absl-py>=0.4 in /usr/local/lib/python3.7/dist-packages (from tensorboard==1.15.0->-r requirements.txt (line 3)) (0.12.0)\n",
            "Requirement already satisfied: markdown>=2.6.8 in /usr/local/lib/python3.7/dist-packages (from tensorboard==1.15.0->-r requirements.txt (line 3)) (3.3.4)\n",
            "Requirement already satisfied: terminado>=0.8.1 in /usr/local/lib/python3.7/dist-packages (from notebook==6.0.3->-r requirements.txt (line 6)) (0.11.0)\n",
            "Requirement already satisfied: nbconvert in /usr/local/lib/python3.7/dist-packages (from notebook==6.0.3->-r requirements.txt (line 6)) (5.6.1)\n",
            "Requirement already satisfied: jupyter-client>=5.3.4 in /usr/local/lib/python3.7/dist-packages (from notebook==6.0.3->-r requirements.txt (line 6)) (5.3.5)\n",
            "Requirement already satisfied: Send2Trash in /usr/local/lib/python3.7/dist-packages (from notebook==6.0.3->-r requirements.txt (line 6)) (1.8.0)\n",
            "Requirement already satisfied: jinja2 in /usr/local/lib/python3.7/dist-packages (from notebook==6.0.3->-r requirements.txt (line 6)) (2.11.3)\n",
            "Requirement already satisfied: ipykernel in /usr/local/lib/python3.7/dist-packages (from notebook==6.0.3->-r requirements.txt (line 6)) (4.10.1)\n",
            "Requirement already satisfied: ipython-genutils in /usr/local/lib/python3.7/dist-packages (from notebook==6.0.3->-r requirements.txt (line 6)) (0.2.0)\n",
            "Requirement already satisfied: pyzmq>=17 in /usr/local/lib/python3.7/dist-packages (from notebook==6.0.3->-r requirements.txt (line 6)) (22.2.1)\n",
            "Requirement already satisfied: nbformat in /usr/local/lib/python3.7/dist-packages (from notebook==6.0.3->-r requirements.txt (line 6)) (5.1.3)\n",
            "Requirement already satisfied: prometheus-client in /usr/local/lib/python3.7/dist-packages (from notebook==6.0.3->-r requirements.txt (line 6)) (0.11.0)\n",
            "Requirement already satisfied: traitlets>=4.2.1 in /usr/local/lib/python3.7/dist-packages (from notebook==6.0.3->-r requirements.txt (line 6)) (5.0.5)\n",
            "Requirement already satisfied: tornado>=5.0 in /usr/local/lib/python3.7/dist-packages (from notebook==6.0.3->-r requirements.txt (line 6)) (5.1.1)\n",
            "Requirement already satisfied: jupyter-core>=4.6.1 in /usr/local/lib/python3.7/dist-packages (from notebook==6.0.3->-r requirements.txt (line 6)) (4.7.1)\n",
            "Requirement already satisfied: PyWavelets>=0.4.0 in /usr/local/lib/python3.7/dist-packages (from scikit-image==0.16.2->-r requirements.txt (line 9)) (1.1.1)\n",
            "Requirement already satisfied: networkx>=2.0 in /usr/local/lib/python3.7/dist-packages (from scikit-image==0.16.2->-r requirements.txt (line 9)) (2.6.2)\n",
            "Requirement already satisfied: imageio>=2.3.0 in /usr/local/lib/python3.7/dist-packages (from scikit-image==0.16.2->-r requirements.txt (line 9)) (2.4.1)\n",
            "Requirement already satisfied: python-dateutil>=2.1 in /usr/local/lib/python3.7/dist-packages (from matplotlib==3.1.3->-r requirements.txt (line 10)) (2.8.2)\n",
            "Requirement already satisfied: pyparsing!=2.0.4,!=2.1.2,!=2.1.6,>=2.0.1 in /usr/local/lib/python3.7/dist-packages (from matplotlib==3.1.3->-r requirements.txt (line 10)) (2.4.7)\n",
            "Requirement already satisfied: kiwisolver>=1.0.1 in /usr/local/lib/python3.7/dist-packages (from matplotlib==3.1.3->-r requirements.txt (line 10)) (1.3.1)\n",
            "Requirement already satisfied: cycler>=0.10 in /usr/local/lib/python3.7/dist-packages (from matplotlib==3.1.3->-r requirements.txt (line 10)) (0.10.0)\n",
            "Requirement already satisfied: jsonschema in /usr/local/lib/python3.7/dist-packages (from ray==0.8.4->-r requirements.txt (line 12)) (2.6.0)\n",
            "Requirement already satisfied: click in /usr/local/lib/python3.7/dist-packages (from ray==0.8.4->-r requirements.txt (line 12)) (7.1.2)\n",
            "Collecting aiohttp\n",
            "  Downloading aiohttp-3.7.4.post0-cp37-cp37m-manylinux2014_x86_64.whl (1.3 MB)\n",
            "\u001b[K     |████████████████████████████████| 1.3 MB 50.7 MB/s \n",
            "\u001b[?25hCollecting redis>=3.3.2\n",
            "  Downloading redis-3.5.3-py2.py3-none-any.whl (72 kB)\n",
            "\u001b[K     |████████████████████████████████| 72 kB 608 kB/s \n",
            "\u001b[?25hCollecting py-spy>=0.2.0\n",
            "  Downloading py_spy-0.3.8-py2.py3-none-manylinux_2_5_x86_64.manylinux1_x86_64.whl (3.1 MB)\n",
            "\u001b[K     |████████████████████████████████| 3.1 MB 24.6 MB/s \n",
            "\u001b[?25hCollecting colorama\n",
            "  Downloading colorama-0.4.4-py2.py3-none-any.whl (16 kB)\n",
            "Requirement already satisfied: google in /usr/local/lib/python3.7/dist-packages (from ray==0.8.4->-r requirements.txt (line 12)) (2.0.3)\n",
            "Requirement already satisfied: filelock in /usr/local/lib/python3.7/dist-packages (from ray==0.8.4->-r requirements.txt (line 12)) (3.0.12)\n",
            "Requirement already satisfied: pytz>=2017.2 in /usr/local/lib/python3.7/dist-packages (from pandas==1.0.1->-r requirements.txt (line 13)) (2018.9)\n",
            "Requirement already satisfied: certifi>=2017.4.17 in /usr/local/lib/python3.7/dist-packages (from requests==2.24.0->-r requirements.txt (line 17)) (2021.5.30)\n",
            "Requirement already satisfied: chardet<4,>=3.0.2 in /usr/local/lib/python3.7/dist-packages (from requests==2.24.0->-r requirements.txt (line 17)) (3.0.4)\n",
            "Requirement already satisfied: idna<3,>=2.5 in /usr/local/lib/python3.7/dist-packages (from requests==2.24.0->-r requirements.txt (line 17)) (2.10)\n",
            "Requirement already satisfied: urllib3!=1.25.0,!=1.25.1,<1.26,>=1.21.1 in /usr/local/lib/python3.7/dist-packages (from requests==2.24.0->-r requirements.txt (line 17)) (1.24.3)\n",
            "Requirement already satisfied: importlib-metadata in /usr/local/lib/python3.7/dist-packages (from markdown>=2.6.8->tensorboard==1.15.0->-r requirements.txt (line 3)) (4.6.3)\n",
            "Requirement already satisfied: ptyprocess in /usr/local/lib/python3.7/dist-packages (from terminado>=0.8.1->notebook==6.0.3->-r requirements.txt (line 6)) (0.7.0)\n",
            "Collecting multidict<7.0,>=4.5\n",
            "  Downloading multidict-5.1.0-cp37-cp37m-manylinux2014_x86_64.whl (142 kB)\n",
            "\u001b[K     |████████████████████████████████| 142 kB 69.1 MB/s \n",
            "\u001b[?25hRequirement already satisfied: typing-extensions>=3.6.5 in /usr/local/lib/python3.7/dist-packages (from aiohttp->ray==0.8.4->-r requirements.txt (line 12)) (3.7.4.3)\n",
            "Requirement already satisfied: attrs>=17.3.0 in /usr/local/lib/python3.7/dist-packages (from aiohttp->ray==0.8.4->-r requirements.txt (line 12)) (21.2.0)\n",
            "Collecting yarl<2.0,>=1.0\n",
            "  Downloading yarl-1.6.3-cp37-cp37m-manylinux2014_x86_64.whl (294 kB)\n",
            "\u001b[K     |████████████████████████████████| 294 kB 73.9 MB/s \n",
            "\u001b[?25hCollecting async-timeout<4.0,>=3.0\n",
            "  Downloading async_timeout-3.0.1-py3-none-any.whl (8.2 kB)\n",
            "Requirement already satisfied: beautifulsoup4 in /usr/local/lib/python3.7/dist-packages (from google->ray==0.8.4->-r requirements.txt (line 12)) (4.6.3)\n",
            "Requirement already satisfied: zipp>=0.5 in /usr/local/lib/python3.7/dist-packages (from importlib-metadata->markdown>=2.6.8->tensorboard==1.15.0->-r requirements.txt (line 3)) (3.5.0)\n",
            "Requirement already satisfied: ipython>=4.0.0 in /usr/local/lib/python3.7/dist-packages (from ipykernel->notebook==6.0.3->-r requirements.txt (line 6)) (5.5.0)\n",
            "Requirement already satisfied: decorator in /usr/local/lib/python3.7/dist-packages (from ipython>=4.0.0->ipykernel->notebook==6.0.3->-r requirements.txt (line 6)) (4.4.2)\n",
            "Requirement already satisfied: prompt-toolkit<2.0.0,>=1.0.4 in /usr/local/lib/python3.7/dist-packages (from ipython>=4.0.0->ipykernel->notebook==6.0.3->-r requirements.txt (line 6)) (1.0.18)\n",
            "Requirement already satisfied: pexpect in /usr/local/lib/python3.7/dist-packages (from ipython>=4.0.0->ipykernel->notebook==6.0.3->-r requirements.txt (line 6)) (4.8.0)\n",
            "Requirement already satisfied: pickleshare in /usr/local/lib/python3.7/dist-packages (from ipython>=4.0.0->ipykernel->notebook==6.0.3->-r requirements.txt (line 6)) (0.7.5)\n",
            "Requirement already satisfied: pygments in /usr/local/lib/python3.7/dist-packages (from ipython>=4.0.0->ipykernel->notebook==6.0.3->-r requirements.txt (line 6)) (2.6.1)\n",
            "Requirement already satisfied: simplegeneric>0.8 in /usr/local/lib/python3.7/dist-packages (from ipython>=4.0.0->ipykernel->notebook==6.0.3->-r requirements.txt (line 6)) (0.8.1)\n",
            "Requirement already satisfied: wcwidth in /usr/local/lib/python3.7/dist-packages (from prompt-toolkit<2.0.0,>=1.0.4->ipython>=4.0.0->ipykernel->notebook==6.0.3->-r requirements.txt (line 6)) (0.2.5)\n",
            "Requirement already satisfied: MarkupSafe>=0.23 in /usr/local/lib/python3.7/dist-packages (from jinja2->notebook==6.0.3->-r requirements.txt (line 6)) (2.0.1)\n",
            "Requirement already satisfied: mistune<2,>=0.8.1 in /usr/local/lib/python3.7/dist-packages (from nbconvert->notebook==6.0.3->-r requirements.txt (line 6)) (0.8.4)\n",
            "Requirement already satisfied: bleach in /usr/local/lib/python3.7/dist-packages (from nbconvert->notebook==6.0.3->-r requirements.txt (line 6)) (4.0.0)\n",
            "Requirement already satisfied: testpath in /usr/local/lib/python3.7/dist-packages (from nbconvert->notebook==6.0.3->-r requirements.txt (line 6)) (0.5.0)\n",
            "Requirement already satisfied: defusedxml in /usr/local/lib/python3.7/dist-packages (from nbconvert->notebook==6.0.3->-r requirements.txt (line 6)) (0.7.1)\n",
            "Requirement already satisfied: entrypoints>=0.2.2 in /usr/local/lib/python3.7/dist-packages (from nbconvert->notebook==6.0.3->-r requirements.txt (line 6)) (0.3)\n",
            "Requirement already satisfied: pandocfilters>=1.4.1 in /usr/local/lib/python3.7/dist-packages (from nbconvert->notebook==6.0.3->-r requirements.txt (line 6)) (1.4.3)\n",
            "Requirement already satisfied: packaging in /usr/local/lib/python3.7/dist-packages (from bleach->nbconvert->notebook==6.0.3->-r requirements.txt (line 6)) (21.0)\n",
            "Requirement already satisfied: webencodings in /usr/local/lib/python3.7/dist-packages (from bleach->nbconvert->notebook==6.0.3->-r requirements.txt (line 6)) (0.5.1)\n",
            "Collecting ray[tune]\n",
            "  Downloading ray-1.5.1-cp37-cp37m-manylinux2014_x86_64.whl (51.5 MB)\n",
            "\u001b[K     |████████████████████████████████| 51.5 MB 24 kB/s \n",
            "\u001b[?25h  Downloading ray-1.5.0-cp37-cp37m-manylinux2014_x86_64.whl (51.5 MB)\n",
            "\u001b[K     |████████████████████████████████| 51.5 MB 24 kB/s \n",
            "\u001b[?25h  Downloading ray-1.4.1-cp37-cp37m-manylinux2014_x86_64.whl (51.6 MB)\n",
            "\u001b[K     |████████████████████████████████| 51.6 MB 34 kB/s \n",
            "\u001b[?25h  Downloading ray-1.4.0-cp37-cp37m-manylinux2014_x86_64.whl (49.4 MB)\n",
            "\u001b[K     |████████████████████████████████| 49.4 MB 34 kB/s \n",
            "\u001b[?25h  Downloading ray-1.3.0-cp37-cp37m-manylinux2014_x86_64.whl (49.7 MB)\n",
            "\u001b[K     |████████████████████████████████| 49.7 MB 25 kB/s \n",
            "\u001b[?25h  Downloading ray-1.2.0-cp37-cp37m-manylinux2014_x86_64.whl (47.5 MB)\n",
            "\u001b[K     |████████████████████████████████| 47.5 MB 42 kB/s \n",
            "\u001b[?25h  Downloading ray-1.1.0-cp37-cp37m-manylinux2014_x86_64.whl (48.5 MB)\n",
            "\u001b[K     |████████████████████████████████| 48.5 MB 27 kB/s \n",
            "\u001b[?25h  Downloading ray-1.0.1.post1-cp37-cp37m-manylinux1_x86_64.whl (23.1 MB)\n",
            "\u001b[K     |████████████████████████████████| 23.1 MB 1.3 MB/s \n",
            "\u001b[?25h  Downloading ray-1.0.1-cp37-cp37m-manylinux1_x86_64.whl (23.1 MB)\n",
            "\u001b[K     |████████████████████████████████| 23.1 MB 8.5 kB/s \n",
            "\u001b[?25h  Downloading ray-1.0.0-cp37-cp37m-manylinux1_x86_64.whl (22.9 MB)\n",
            "\u001b[K     |████████████████████████████████| 22.9 MB 1.1 MB/s \n",
            "\u001b[?25h  Downloading ray-0.8.7-cp37-cp37m-manylinux1_x86_64.whl (22.0 MB)\n",
            "\u001b[K     |████████████████████████████████| 22.0 MB 26 kB/s \n",
            "\u001b[?25h  Downloading ray-0.8.6-cp37-cp37m-manylinux1_x86_64.whl (21.9 MB)\n",
            "\u001b[K     |████████████████████████████████| 21.9 MB 1.3 MB/s \n",
            "\u001b[?25h  Downloading ray-0.8.5-cp37-cp37m-manylinux1_x86_64.whl (21.2 MB)\n",
            "\u001b[K     |████████████████████████████████| 21.2 MB 1.3 MB/s \n",
            "\u001b[?25hCollecting tensorboardX\n",
            "  Downloading tensorboardX-2.4-py2.py3-none-any.whl (124 kB)\n",
            "\u001b[K     |████████████████████████████████| 124 kB 73.4 MB/s \n",
            "\u001b[?25hRequirement already satisfied: tabulate in /usr/local/lib/python3.7/dist-packages (from ray==0.8.4->-r requirements.txt (line 12)) (0.8.9)\n",
            "Building wheels for collected packages: psutil, PyYAML\n",
            "  Building wheel for psutil (setup.py) ... \u001b[?25l\u001b[?25hdone\n",
            "  Created wheel for psutil: filename=psutil-5.6.7-cp37-cp37m-linux_x86_64.whl size=277366 sha256=947896a079735e010d39b798f5c00d96bdf5f7a14d7ec79ee4b1fe61ba6d19e0\n",
            "  Stored in directory: /root/.cache/pip/wheels/65/eb/7c/a2480f4fb514230c9c7c56f31fb34227f0050552c39edab94c\n",
            "  Building wheel for PyYAML (setup.py) ... \u001b[?25l\u001b[?25hdone\n",
            "  Created wheel for PyYAML: filename=PyYAML-5.3-cp37-cp37m-linux_x86_64.whl size=44244 sha256=b2643d91a55e6bee3d67a33c11c617a4d578ac987bc3095bc4c5fde9bc2dc425\n",
            "  Stored in directory: /root/.cache/pip/wheels/8a/55/a4/c0a81d27c33462cfdcb904db018f5550197e88b2b6b85beed2\n",
            "Successfully built psutil PyYAML\n",
            "Installing collected packages: multidict, yarl, async-timeout, redis, PyYAML, py-spy, pillow, numpy, colorama, aiohttp, torch, tensorboardX, scipy, ray, pandas, matplotlib, tqdm, torchvision, tensorboard, requests, pyaml, psutil, notebook, kornia, h5py\n",
            "  Attempting uninstall: PyYAML\n",
            "    Found existing installation: PyYAML 3.13\n",
            "    Uninstalling PyYAML-3.13:\n",
            "      Successfully uninstalled PyYAML-3.13\n",
            "  Attempting uninstall: pillow\n",
            "    Found existing installation: Pillow 7.1.2\n",
            "    Uninstalling Pillow-7.1.2:\n",
            "      Successfully uninstalled Pillow-7.1.2\n",
            "  Attempting uninstall: numpy\n",
            "    Found existing installation: numpy 1.19.5\n",
            "    Uninstalling numpy-1.19.5:\n",
            "      Successfully uninstalled numpy-1.19.5\n",
            "  Attempting uninstall: torch\n",
            "    Found existing installation: torch 1.9.0+cu102\n",
            "    Uninstalling torch-1.9.0+cu102:\n",
            "      Successfully uninstalled torch-1.9.0+cu102\n",
            "  Attempting uninstall: scipy\n",
            "    Found existing installation: scipy 1.4.1\n",
            "    Uninstalling scipy-1.4.1:\n",
            "      Successfully uninstalled scipy-1.4.1\n",
            "  Attempting uninstall: pandas\n",
            "    Found existing installation: pandas 1.1.5\n",
            "    Uninstalling pandas-1.1.5:\n",
            "      Successfully uninstalled pandas-1.1.5\n",
            "  Attempting uninstall: matplotlib\n",
            "    Found existing installation: matplotlib 3.2.2\n",
            "    Uninstalling matplotlib-3.2.2:\n",
            "      Successfully uninstalled matplotlib-3.2.2\n",
            "  Attempting uninstall: tqdm\n",
            "    Found existing installation: tqdm 4.62.0\n",
            "    Uninstalling tqdm-4.62.0:\n",
            "      Successfully uninstalled tqdm-4.62.0\n",
            "  Attempting uninstall: torchvision\n",
            "    Found existing installation: torchvision 0.10.0+cu102\n",
            "    Uninstalling torchvision-0.10.0+cu102:\n",
            "      Successfully uninstalled torchvision-0.10.0+cu102\n",
            "  Attempting uninstall: tensorboard\n",
            "    Found existing installation: tensorboard 2.6.0\n",
            "    Uninstalling tensorboard-2.6.0:\n",
            "      Successfully uninstalled tensorboard-2.6.0\n",
            "  Attempting uninstall: requests\n",
            "    Found existing installation: requests 2.23.0\n",
            "    Uninstalling requests-2.23.0:\n",
            "      Successfully uninstalled requests-2.23.0\n",
            "  Attempting uninstall: psutil\n",
            "    Found existing installation: psutil 5.4.8\n",
            "    Uninstalling psutil-5.4.8:\n",
            "      Successfully uninstalled psutil-5.4.8\n",
            "  Attempting uninstall: notebook\n",
            "    Found existing installation: notebook 5.3.1\n",
            "    Uninstalling notebook-5.3.1:\n",
            "      Successfully uninstalled notebook-5.3.1\n",
            "  Attempting uninstall: h5py\n",
            "    Found existing installation: h5py 3.1.0\n",
            "    Uninstalling h5py-3.1.0:\n",
            "      Successfully uninstalled h5py-3.1.0\n",
            "\u001b[31mERROR: pip's dependency resolver does not currently take into account all the packages that are installed. This behaviour is the source of the following dependency conflicts.\n",
            "torchtext 0.10.0 requires torch==1.9.0, but you have torch 1.6.0+cu101 which is incompatible.\n",
            "tensorflow 2.6.0 requires h5py~=3.1.0, but you have h5py 2.10.0 which is incompatible.\n",
            "tensorflow 2.6.0 requires numpy~=1.19.2, but you have numpy 1.18.1 which is incompatible.\n",
            "tensorflow 2.6.0 requires tensorboard~=2.6, but you have tensorboard 1.15.0 which is incompatible.\n",
            "panel 0.12.1 requires tqdm>=4.48.0, but you have tqdm 4.42.1 which is incompatible.\n",
            "kapre 0.3.5 requires numpy>=1.18.5, but you have numpy 1.18.1 which is incompatible.\n",
            "google-colab 1.0.0 requires notebook~=5.3.0; python_version >= \"3.0\", but you have notebook 6.0.3 which is incompatible.\n",
            "google-colab 1.0.0 requires pandas~=1.1.0; python_version >= \"3.0\", but you have pandas 1.0.1 which is incompatible.\n",
            "google-colab 1.0.0 requires requests~=2.23.0, but you have requests 2.24.0 which is incompatible.\n",
            "fbprophet 0.7.1 requires pandas>=1.0.4, but you have pandas 1.0.1 which is incompatible.\n",
            "datascience 0.10.6 requires folium==0.2.1, but you have folium 0.8.3 which is incompatible.\n",
            "bokeh 2.3.3 requires pillow>=7.1.0, but you have pillow 7.0.0 which is incompatible.\n",
            "albumentations 0.1.12 requires imgaug<0.2.7,>=0.2.5, but you have imgaug 0.2.9 which is incompatible.\u001b[0m\n",
            "Successfully installed PyYAML-5.3 aiohttp-3.7.4.post0 async-timeout-3.0.1 colorama-0.4.4 h5py-2.10.0 kornia-0.4.0 matplotlib-3.1.3 multidict-5.1.0 notebook-6.0.3 numpy-1.18.1 pandas-1.0.1 pillow-7.0.0 psutil-5.6.7 py-spy-0.3.8 pyaml-20.3.1 ray-0.8.4 redis-3.5.3 requests-2.24.0 scipy-1.2.1 tensorboard-1.15.0 tensorboardX-2.4 torch-1.6.0+cu101 torchvision-0.7.0+cu101 tqdm-4.42.1 yarl-1.6.3\n"
          ],
          "name": "stdout"
        },
        {
          "output_type": "display_data",
          "data": {
            "application/vnd.colab-display-data+json": {
              "pip_warning": {
                "packages": [
                  "PIL",
                  "matplotlib",
                  "mpl_toolkits",
                  "numpy",
                  "pandas",
                  "psutil"
                ]
              }
            }
          },
          "metadata": {
            "tags": []
          }
        }
      ]
    },
    {
      "cell_type": "markdown",
      "metadata": {
        "id": "teoEYSpynlFp"
      },
      "source": [
        "# Download Pretrained Model and rename to checkpoint"
      ]
    },
    {
      "cell_type": "code",
      "metadata": {
        "colab": {
          "base_uri": "https://localhost:8080/"
        },
        "id": "moR50mK6TdRK",
        "outputId": "add6196f-617c-475f-aa67-ce3bfbd2d217"
      },
      "source": [
        "!gdown --id 1vnQAF_BeQWZagH-izSQIBRlSVDWDJME2"
      ],
      "execution_count": null,
      "outputs": [
        {
          "output_type": "stream",
          "text": [
            "Downloading...\n",
            "From: https://drive.google.com/uc?id=1vnQAF_BeQWZagH-izSQIBRlSVDWDJME2\n",
            "To: /content/improving_segmentation_with_selfsupervised_depth/cityscapes_sel_rev2_ds_us_pad_transfer_dcompgt0030_D372fixed_S7_sgdLr1E-021E-031E-061E-03stepx_clip10False_m1s1_crop512x512bs2_flip_dec6_lr5_fd2_crop512x512bs4_l9i7Trueos1_Unlab1.0depthcompFPLFalsejitblur.zip\n",
            "696MB [00:06, 103MB/s]\n"
          ],
          "name": "stdout"
        }
      ]
    },
    {
      "cell_type": "code",
      "metadata": {
        "colab": {
          "base_uri": "https://localhost:8080/"
        },
        "id": "RPndqEP7TjpS",
        "outputId": "fdcd3332-57f6-48e1-c92e-99039423194f"
      },
      "source": [
        "!unzip checkpoint.zip"
      ],
      "execution_count": null,
      "outputs": [
        {
          "output_type": "stream",
          "text": [
            "Archive:  checkpoint.zip\n",
            "   creating: cityscapes_sel_rev2_ds_us_pad_transfer_dcompgt0030_D372fixed_S7_sgdLr1E-021E-031E-061E-03stepx_clip10False_m1s1_crop512x512bs2_flip_dec6_lr5_fd2_crop512x512bs4_l9i7Trueos1_Unlab1.0depthcompFPLFalsejitblur/\n",
            "  inflating: cityscapes_sel_rev2_ds_us_pad_transfer_dcompgt0030_D372fixed_S7_sgdLr1E-021E-031E-061E-03stepx_clip10False_m1s1_crop512x512bs2_flip_dec6_lr5_fd2_crop512x512bs4_l9i7Trueos1_Unlab1.0depthcompFPLFalsejitblur/best_model_without_opt.pkl  \n",
            "  inflating: cityscapes_sel_rev2_ds_us_pad_transfer_dcompgt0030_D372fixed_S7_sgdLr1E-021E-031E-061E-03stepx_clip10False_m1s1_crop512x512bs2_flip_dec6_lr5_fd2_crop512x512bs4_l9i7Trueos1_Unlab1.0depthcompFPLFalsejitblur/cfg.yml  \n",
            "  inflating: cityscapes_sel_rev2_ds_us_pad_transfer_dcompgt0030_D372fixed_S7_sgdLr1E-021E-031E-061E-03stepx_clip10False_m1s1_crop512x512bs2_flip_dec6_lr5_fd2_crop512x512bs4_l9i7Trueos1_Unlab1.0depthcompFPLFalsejitblur/events.out.tfevents.1616783587.eu-g3-077.118842.0.metrics  \n"
          ],
          "name": "stdout"
        }
      ]
    },
    {
      "cell_type": "code",
      "metadata": {
        "colab": {
          "base_uri": "https://localhost:8080/"
        },
        "id": "nKaPuZQHezEO",
        "outputId": "333b30fc-259e-4689-c498-743c0062de77"
      },
      "source": [
        "#!python inference.py --machine ws --model /path/to/checkpoint/dir/ --data /path/to/data/dir/\n",
        "!python inference.py --machine ws --model /content/improving_segmentation_with_selfsupervised_depth/checkpoint/ --data /content/improving_segmentation_with_selfsupervised_depth/data/"
      ],
      "execution_count": null,
      "outputs": [
        {
          "output_type": "stream",
          "text": [
            "Start inference2021-08-18_14-19-05-462073\n",
            "RUNDIR: results//inference2021-08-18_14-19-05-462073/\n",
            "Found 1 val images\n",
            "Load mono_cityscapes_1024x512_r101dil_aspp_dec6_lr5_fd2_crop512x512bs4weights\n",
            "Load mono_cityscapes_1024x512_r101dil_aspp_dec6_lr5_fd2_crop512x512bs4depth weights\n",
            "Load mono_cityscapes_1024x512_r101dil_aspp_dec6_lr5_fd2_crop512x512bs4depth weights\n",
            "Validate inference2021-08-18_14-19-05-462073\n",
            "  0% 0/1 [00:00<?, ?it/s]PAD run first half of decoder ([4, 3, 2]).\n",
            "bottleneck shape torch.Size([1, 2048, 32, 64])\n",
            "upconv4-0 shape: torch.Size([1, 256, 32, 64])\n",
            "concatenated features shape: torch.Size([1, 1280, 32, 64])\n",
            "upconv4-1 shape: torch.Size([1, 256, 32, 64])\n",
            "upconv3-0 shape: torch.Size([1, 256, 32, 64])\n",
            "concatenated features shape: torch.Size([1, 768, 64, 128])\n",
            "upconv3-1 shape: torch.Size([1, 256, 64, 128])\n",
            "disp3 shape: torch.Size([1, 1, 64, 128]), expected [64 64]\n",
            "upconv2-0 shape: torch.Size([1, 128, 64, 128])\n",
            "concatenated features shape: torch.Size([1, 384, 128, 256])\n",
            "upconv2-1 shape: torch.Size([1, 128, 128, 256])\n",
            "disp2 shape: torch.Size([1, 1, 128, 256]), expected [128 128]\n",
            "bottleneck shape torch.Size([1, 2048, 32, 64])\n",
            "upconv4-0 shape: torch.Size([1, 256, 32, 64])\n",
            "concatenated features shape: torch.Size([1, 1280, 32, 64])\n",
            "upconv4-1 shape: torch.Size([1, 256, 32, 64])\n",
            "upconv3-0 shape: torch.Size([1, 256, 32, 64])\n",
            "concatenated features shape: torch.Size([1, 768, 64, 128])\n",
            "upconv3-1 shape: torch.Size([1, 256, 64, 128])\n",
            "upconv2-0 shape: torch.Size([1, 128, 64, 128])\n",
            "concatenated features shape: torch.Size([1, 384, 128, 256])\n",
            "upconv2-1 shape: torch.Size([1, 128, 128, 256])\n",
            "PAD self attention for ('upconv', 2) with shape torch.Size([1, 128, 128, 256]).\n",
            "PAD run second half of decoder ([1, 0]).\n",
            "bottleneck shape torch.Size([1, 128, 128, 256])\n",
            "upconv1-0 shape: torch.Size([1, 128, 128, 256])\n",
            "concatenated features shape: torch.Size([1, 192, 256, 512])\n",
            "upconv1-1 shape: torch.Size([1, 128, 256, 512])\n",
            "disp1 shape: torch.Size([1, 1, 256, 512]), expected [256 256]\n",
            "upconv0-0 shape: torch.Size([1, 64, 256, 512])\n",
            "concatenated features shape: torch.Size([1, 64, 512, 1024])\n",
            "upconv0-1 shape: torch.Size([1, 64, 512, 1024])\n",
            "disp0 shape: torch.Size([1, 1, 512, 1024]), expected [512 512]\n",
            "100% 1/1 [00:03<00:00,  3.32s/it]\n"
          ],
          "name": "stdout"
        }
      ]
    },
    {
      "cell_type": "code",
      "metadata": {
        "colab": {
          "base_uri": "https://localhost:8080/",
          "height": 528
        },
        "id": "ySIvXXg2oxtn",
        "outputId": "8df0938e-4768-4eba-fced-2603868b1081"
      },
      "source": [
        "import cv2\n",
        "from google.colab.patches import cv2_imshow\n",
        "path ='/content/improving_segmentation_with_selfsupervised_depth/results/inference2021-08-18_14-19-05-462073/improving_segmentation_with_selfsupervised_depth/data/8239308689_efa6c11b08_z_label.png'\n",
        "img=cv2.imread(path)\n",
        "cv2_imshow(img)"
      ],
      "execution_count": null,
      "outputs": [
        {
          "output_type": "display_data",
          "data": {
            "image/png": "[encoded data removed]",
            "text/plain": [
              "<PIL.Image.Image image mode=RGB size=1024x512 at 0x7F9E75EBF7D0>"
            ]
          },
          "metadata": {
            "tags": []
          }
        }
      ]
    }
  ]
}